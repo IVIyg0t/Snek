{
 "cells": [
  {
   "cell_type": "code",
   "execution_count": 144,
   "metadata": {},
   "outputs": [
    {
     "data": {
      "text/plain": [
       "{1, 2, 3}"
      ]
     },
     "execution_count": 144,
     "metadata": {},
     "output_type": "execute_result"
    }
   ],
   "source": [
    "# from Snek.SnekCore.PluginMount import PluginMount\n",
    "from abc import ABCMeta, abstractmethod, ABC\n",
    "\n",
    "set([1, 2, 3]) - set([4])\n"
   ]
  },
  {
   "cell_type": "code",
   "execution_count": 127,
   "metadata": {},
   "outputs": [],
   "source": [
    "import pkg_resources\n",
    "\n",
    "\n",
    "class PluginMount(ABCMeta):\n",
    "    \n",
    "    def __init__(cls, name, bases, attrs):\n",
    "        if not hasattr(cls, \"plugins\"):\n",
    "            cls.plugins = {}\n",
    "        else:\n",
    "            cls.plugins[cls.__name__] = cls\n",
    "            \n",
    "    @property\n",
    "    @staticmethod\n",
    "    @abstractmethod\n",
    "    def entry_point(cls) -> str:\n",
    "        raise NotImplementedError()\n",
    "    \n",
    "    def load(cls):\n",
    "        for entry_point in pkg_resources.iter_entry_points(cls.entry_point):\n",
    "            entry_point.load()\n",
    "            \n",
    "class BaseMountPoint(ABC):\n",
    "    pass\n",
    "    # @property\n",
    "    # @classmethod\n",
    "    # def entry_point(cls) -> str:\n",
    "    #     raise NotImplementedError()\n",
    "    \n",
    "# BaseMountPoint.entry_point\n",
    "                        "
   ]
  },
  {
   "cell_type": "code",
   "execution_count": 131,
   "metadata": {},
   "outputs": [],
   "source": [
    "\n",
    "class ExampleMountPoint(metaclass=PluginMount):\n",
    "    entry_point = \"snek_types\"\n",
    "    \n",
    "    @abstractmethod\n",
    "    def run(self) -> str:\n",
    "        pass"
   ]
  },
  {
   "cell_type": "code",
   "execution_count": 132,
   "metadata": {},
   "outputs": [],
   "source": [
    "class ExamplePlugin(ExampleMountPoint):\n",
    "    \n",
    "    def __init__(self, *args, **kwargs):\n",
    "        pass\n",
    "    \n",
    "    def run(self) -> str:\n",
    "        return \"Hello World\"\n"
   ]
  },
  {
   "cell_type": "code",
   "execution_count": 133,
   "metadata": {},
   "outputs": [
    {
     "ename": "NotImplementedError",
     "evalue": "",
     "output_type": "error",
     "traceback": [
      "\u001b[0;31m---------------------------------------------------------------------------\u001b[0m",
      "\u001b[0;31mNotImplementedError\u001b[0m                       Traceback (most recent call last)",
      "Cell \u001b[0;32mIn[133], line 1\u001b[0m\n\u001b[0;32m----> 1\u001b[0m ExampleMountPoint\u001b[39m.\u001b[39;49mload()\n",
      "Cell \u001b[0;32mIn[127], line 19\u001b[0m, in \u001b[0;36mPluginMount.load\u001b[0;34m(cls)\u001b[0m\n\u001b[1;32m     18\u001b[0m \u001b[39mdef\u001b[39;00m \u001b[39mload\u001b[39m(\u001b[39mcls\u001b[39m):\n\u001b[0;32m---> 19\u001b[0m     \u001b[39mfor\u001b[39;00m entry_point \u001b[39min\u001b[39;00m pkg_resources\u001b[39m.\u001b[39miter_entry_points(\u001b[39mcls\u001b[39;49m\u001b[39m.\u001b[39;49mentry_point):\n\u001b[1;32m     20\u001b[0m         entry_point\u001b[39m.\u001b[39mload()\n",
      "Cell \u001b[0;32mIn[127], line 16\u001b[0m, in \u001b[0;36mPluginMount.entry_point\u001b[0;34m(cls)\u001b[0m\n\u001b[1;32m     12\u001b[0m \u001b[39m@property\u001b[39m\n\u001b[1;32m     13\u001b[0m \u001b[39m@staticmethod\u001b[39m\n\u001b[1;32m     14\u001b[0m \u001b[39m@abstractmethod\u001b[39m\n\u001b[1;32m     15\u001b[0m \u001b[39mdef\u001b[39;00m \u001b[39mentry_point\u001b[39m(\u001b[39mcls\u001b[39m) \u001b[39m-\u001b[39m\u001b[39m>\u001b[39m \u001b[39mstr\u001b[39m:\n\u001b[0;32m---> 16\u001b[0m     \u001b[39mraise\u001b[39;00m \u001b[39mNotImplementedError\u001b[39;00m()\n",
      "\u001b[0;31mNotImplementedError\u001b[0m: "
     ]
    }
   ],
   "source": [
    "ExampleMountPoint.load()"
   ]
  },
  {
   "cell_type": "code",
   "execution_count": null,
   "metadata": {},
   "outputs": [],
   "source": []
  },
  {
   "cell_type": "code",
   "execution_count": null,
   "metadata": {},
   "outputs": [],
   "source": []
  }
 ],
 "metadata": {
  "kernelspec": {
   "display_name": "Snek-l0qJffqV",
   "language": "python",
   "name": "python3"
  },
  "language_info": {
   "codemirror_mode": {
    "name": "ipython",
    "version": 3
   },
   "file_extension": ".py",
   "mimetype": "text/x-python",
   "name": "python",
   "nbconvert_exporter": "python",
   "pygments_lexer": "ipython3",
   "version": "3.10.10"
  },
  "orig_nbformat": 4
 },
 "nbformat": 4,
 "nbformat_minor": 2
}
